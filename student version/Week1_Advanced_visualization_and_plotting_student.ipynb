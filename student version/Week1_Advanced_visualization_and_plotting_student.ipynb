{
 "cells": [
  {
   "cell_type": "markdown",
   "id": "c54924fd-0e04-4208-be63-381788d265d9",
   "metadata": {
    "id": "T-ofr9Ns6M_P"
   },
   "source": [
    "# Week 1: Advanced visualization and plotting\n",
    "\n",
    "Welcome to the first Data Science and Machine Learning module of this course!\n",
    "\n",
    "This week, we will learn some new plotting skills using the `Matplotlib` library and perform hierarchical clustering on different datasets. You should be familiar with the Python programming language and using Jupyter Notebooks at this point, but as this is the first module of this course, you may find that you need a refresher on some material. You are encouraged to review material from your previous coursework within this week before the semester picks up!\n",
    "\n",
    "In order to access past biotechnology modules provided in HMB201, please refer to the following GitHub repositories:\n",
    "https://github.com/orgs/CS-Biotech/repositories"
   ]
  },
  {
   "cell_type": "markdown",
   "id": "dec6106a-d3ea-4cf0-8492-b5f4335726bb",
   "metadata": {
    "id": "LCGCF8wb6RxD"
   },
   "source": [
    "## Learning Objectives\n",
    "By the end of this week, you will have proficiency in the following areas:\n",
    "1. Basic features of the `Matplotlib` library for customizing plots\n",
    "      * Create and organize plots, subplots\n",
    "      * Add title, labels, and legend for plots\n",
    "      * Resize plots\n",
    "2. Use `scatterplots` to visualize the relationship between two features (variables) of a dataset\n",
    "3. The concept of hierarchical clustering\n",
    "4. Use the `scipy` library to perform hierarchical clustering\n",
    "5. Use dendrograms to visualize hierarchical clustering results\n",
    "      * Identify similarities between species close together on the dendrogram in an evolutionary context\n",
    "      * Apply various thresholds/\"slices\" to cluster distance"
   ]
  },
  {
   "cell_type": "markdown",
   "id": "fb36b1cf-c264-4361-b923-b937a41c5932",
   "metadata": {
    "id": "YGAfCs-rQbon"
   },
   "source": [
    "#### **Setup**\n",
    "\n",
    "Similar to the setup we performed in previous coursework, we first need to import various libraries as a basis to run the rest of the code in this file. `numpy` and `pandas` were introduced in previous coursework, please refer to those modules for further information.\n",
    "\n",
    "Run the cell below for setup."
   ]
  },
  {
   "cell_type": "code",
   "execution_count": null,
   "id": "83eac9ce-cf2d-4678-845d-9c5937671eb7",
   "metadata": {
    "executionInfo": {
     "elapsed": 1280,
     "status": "ok",
     "timestamp": 1723538816198,
     "user": {
      "displayName": "Olivia Yan",
      "userId": "09673555938985020879"
     },
     "user_tz": -480
    },
    "id": "FvVd5XsMxiuy"
   },
   "outputs": [],
   "source": [
    "import numpy as np\n",
    "import pandas as pd"
   ]
  },
  {
   "cell_type": "markdown",
   "id": "54aa7d12-dc06-4618-a615-34d2a93f7cff",
   "metadata": {
    "id": "qZA_DaWdxf0R"
   },
   "source": [
    "### Part 1: Iris dataset\n",
    "\n",
    "The Iris dataset is a classic dataset in data science. It contains petal and sepal information on 3 species of iris flowers: Setosa, Versicolour, and Virginica.\n",
    "\n",
    "<!-- Method to Insert Image through Google Drive, which does not work on uoft jupyterHub -->\n",
    "<!-- ![](https://drive.google.com/uc?export=view&id=1-kQHSJ3-527jWK8UwDXiQbacqpV274W1) -->\n",
    "\n",
    "![iris.png](iris.png)\n",
    "\n",
    "\n",
    "Our goal is to differentiate between the 3 species using their petal and sepal information. This is a classification problem with 3 possible classes.\n",
    "\n",
    "Run the cell below to load the dataset into a pandas DataFrame ```df```."
   ]
  },
  {
   "cell_type": "code",
   "execution_count": null,
   "id": "4e272e39-50f6-411d-b731-82b87430f811",
   "metadata": {
    "colab": {
     "base_uri": "https://localhost:8080/",
     "height": 206
    },
    "executionInfo": {
     "elapsed": 3552,
     "status": "ok",
     "timestamp": 1723538846276,
     "user": {
      "displayName": "Olivia Yan",
      "userId": "09673555938985020879"
     },
     "user_tz": -480
    },
    "id": "YOhXZuWTwqep",
    "outputId": "56f2fea5-41bb-487a-ca90-8a1caae136d1",
    "scrolled": true
   },
   "outputs": [],
   "source": [
    "from sklearn import datasets\n",
    "\n",
    "# Load the Iris dataset and create a pandas dataframe\n",
    "iris = datasets.load_iris()\n",
    "df = pd.DataFrame(data=iris.data,\n",
    "                  columns=iris.feature_names)\n",
    "\n",
    "# Append the target column\n",
    "df['species'] = pd.Series(iris.target)    # This creates a new column named \"species\" and assigns the data stored in \"iris.target\" to it\n",
    "df.head()                                 # This shows the top rows of the dataframe, 5 rows by default"
   ]
  },
  {
   "cell_type": "markdown",
   "id": "4a3426ee-9543-495b-b183-cb4f51fc3c5f",
   "metadata": {
    "id": "Kf-FzbacD24s"
   },
   "source": [
    "Note that the species are coded as follows:\n",
    "* 0: setosa\n",
    "* 1: versicolor\n",
    "* 2: virginica\n",
    "\n",
    "To get started, let's print some basic information about the dataset. Print the following lines:\n",
    "1. Number of samples (given as an example)\n",
    "2. Target classes\n",
    "3. Feature names (columns)\n",
    "4. Number of setosa samples\n",
    "5. Number of versicolor samples\n",
    "6. Number of virginica samples\n",
    "\n",
    "<span style=\"background-color: #FFD700\">**Complete the code cell below**</span>"
   ]
  },
  {
   "cell_type": "code",
   "execution_count": null,
   "id": "c6ec822e-2a2c-4e4f-880e-163f91be8689",
   "metadata": {},
   "outputs": [],
   "source": [
    "print(f\"Number of samples: {len(df)}\")\n",
    "\n",
    "# TODO: write the five print statements below\n",
    "print(f\"Target classes: {}\")\n",
    "print(f\"Features: {}\")\n",
    "print(f\"Number of {iris.target_names[0]}: {}\")\n",
    "print(f\"Number of {iris.target_names[1]}: {}\")\n",
    "print(f\"Number of {iris.target_names[2]}: {}\")"
   ]
  },
  {
   "cell_type": "markdown",
   "id": "df7cdc0c-8f1b-4818-948c-d677c5b826d6",
   "metadata": {
    "id": "D-CEHcCFSm5N"
   },
   "source": [
    "Before we apply algorithms to classify the iris species, we would like to visualize the dataset to gain some initial observations about the dataset. You may be familiar with using the `pandas` library to generate various plots from DataFrames. While the `pandas` library is sufficient for some basic plots, in this course we will need a more general plotting library with greater functionality, which can still work with pandas DataFrames."
   ]
  },
  {
   "cell_type": "markdown",
   "id": "752b0747-2ba9-41a6-b5a6-6e97ec0b200e",
   "metadata": {
    "id": "II-yvPGrFG05"
   },
   "source": [
    "#### **Matplotlib: A Python visualization library**\n",
    "\n",
    "`Matplotlib` is a visualization library widely used by data scientists and programmers. It is highly comprehensive and\n",
    "allows us to create customizable figures from our data, making it a powerful tool worth learning.\n",
    "\n",
    "To use the `matplotlib` library for plotting, we import ```matplotlib.pyplot```. Remember that we can create an **alias** to refer to this library as a shorthand. The common alias for this library, used in the data science community, is ```plt```. Throughout our modules, we will always use ```plt``` as the alias for Matplotlib.\n",
    "\n",
    "Run the code cell below."
   ]
  },
  {
   "cell_type": "code",
   "execution_count": null,
   "id": "67395ddc-b359-4957-80d3-b33bfe8ad969",
   "metadata": {
    "executionInfo": {
     "elapsed": 393,
     "status": "ok",
     "timestamp": 1723539365651,
     "user": {
      "displayName": "Olivia Yan",
      "userId": "09673555938985020879"
     },
     "user_tz": -480
    },
    "id": "gWxCXSGOUZAl"
   },
   "outputs": [],
   "source": [
    "import matplotlib.pyplot as plt"
   ]
  },
  {
   "cell_type": "markdown",
   "id": "f740f2d5-0f25-4c7a-b51d-eb0798e5ab69",
   "metadata": {
    "id": "-RaxYZBvUs5G"
   },
   "source": [
    "What kinds of functions are available to us from the library? These are some examples (not an exhaustive list):\n",
    "* line plot: `plt.plot()`\n",
    "* scatter plot: `plt.scatter()`\n",
    "* bar plot: `plt.bar()`\n",
    "* histogram: `plt.hist()`\n",
    "* boxplot: `plt.boxplot()`\n",
    "\n",
    "...and more. If you are interested, you can see more plotting functions available on the matplotlib documentation: https://matplotlib.org/stable/plot_types/index.html. There are a lot!\n",
    "\n",
    "In general, when calling each of these plotting functions, we need to provide some **arguments** to the function to tell it exactly what to plot and how. Each function will require different arguments and have different customization settings available, which are described in their documentation."
   ]
  },
  {
   "cell_type": "markdown",
   "id": "53e1b433-c46f-4bb4-8458-4c5542e56287",
   "metadata": {
    "id": "CYbevoJta9TE"
   },
   "source": [
    "#### **Scatterplots**\n",
    "\n",
    "To start with, let's create a scatter plot. Scatter plots are great for visualizing the relationship between two variables (i.e., a **pairplot**).\n",
    "\n",
    "Say that we want to plot the petal length (y-axis) against the sepal length (x-axis), we can call the convenient **plt.scatter()** function.\n",
    "\n",
    "| Function | Input parameters | Output | Syntax |\n",
    "| --- | --- | --- | --- |\n",
    "| `plt.scatter()` | `x`, `y`, `c` | a Matplotlib PathCollection object that plots y against x | `plt.scatter(x, y, c=*color*)` |\n",
    "\n",
    "* `x` (required): The data to assign to the x-axis.\n",
    "* `y` (required): The data to assign to the y-axis.\n",
    "* `c` (optional): The marker color. Possible options include a single color, a list of colors, or list-like data that will be mapped to colors.\n",
    "* ...and other optional input parameters, which you can read about in the `matplotlib` documentation."
   ]
  },
  {
   "cell_type": "code",
   "execution_count": null,
   "id": "3ce46a1e-6196-4d12-8e32-4ebb7a9bf2e0",
   "metadata": {
    "colab": {
     "base_uri": "https://localhost:8080/",
     "height": 430
    },
    "executionInfo": {
     "elapsed": 459,
     "status": "ok",
     "timestamp": 1723541999279,
     "user": {
      "displayName": "Olivia Yan",
      "userId": "09673555938985020879"
     },
     "user_tz": -480
    },
    "id": "WRTkENWtEw2M",
    "outputId": "d0f25132-5482-4f07-beb8-0c29aeca8ef6"
   },
   "outputs": [],
   "source": [
    "scatter_plot = plt.scatter(x=df['sepal length (cm)'],\n",
    "                           y=df['petal length (cm)'],\n",
    "                           c=df['species'],      # the color of each point in the plot is determined by the value in the 'species' column\n",
    "                           label=df['species'])\n",
    "plt.show()"
   ]
  },
  {
   "cell_type": "markdown",
   "id": "39f127fa-e172-4c00-ba46-d96e85e72c33",
   "metadata": {
    "id": "BOo0sBqFIp61"
   },
   "source": [
    "Note: By default, Jupyter Notebooks will output the last plot executed. This is not guaranteed if you are working from another environment (i.e. running this code from a Python script). It is a good practice to include `plt.show()` everytime you plot a figure if you wish to see it.\n",
    "\n"
   ]
  },
  {
   "cell_type": "markdown",
   "id": "b0c6ee59-41d7-4122-bf8d-72a7993e301f",
   "metadata": {
    "id": "tF8ZvkmI_Ld4"
   },
   "source": [
    "#### **Title and axis labels**\n",
    "\n",
    "To ensure our plot is meaningful and easily understood, we should add a plot title and labels. We can do this using `plt.figure()`, `plt.xlabel()`, and `plt.ylabel()`.\n",
    "\n",
    "| Function | Input parameters | Output | Syntax |\n",
    "| --- | --- | --- | --- |\n",
    "| plt.title() | label | a Matplotlib Text object that represents the title | plt.title(label) |\n",
    "| plt.xlabel() | xlabel | a Matplotlib Text object that represents the x axis label | plt.xlabel(xlabel) |\n",
    "| plt.ylabel() | ylabel | a Matplotlib Text object that represents the x axis label | plt.ylabel(ylabel) |\n",
    "\n",
    "Below, we have filled in the title label for you. Now it's your turn: write the code to add axis labels.\n",
    "\n",
    "<span style=\"background-color: #FFD700\">**Complete the code cell below**</span> for `plt.xlabel()` and `plt.ylabel()` "
   ]
  },
  {
   "cell_type": "code",
   "execution_count": null,
   "id": "e8b89838-ce50-4efc-8d16-ba998ebd5f3e",
   "metadata": {
    "colab": {
     "base_uri": "https://localhost:8080/",
     "height": 490
    },
    "executionInfo": {
     "elapsed": 441,
     "status": "ok",
     "timestamp": 1723539471681,
     "user": {
      "displayName": "Olivia Yan",
      "userId": "09673555938985020879"
     },
     "user_tz": -480
    },
    "id": "luBvh-It_I7y",
    "outputId": "32d04f6e-9c78-479d-f430-765ae5a93abe"
   },
   "outputs": [],
   "source": [
    "# TODO: Fill in this part with your scatter plot code from above\n",
    "scatter_plot = plt.scatter(x=,\n",
    "                           y=,\n",
    "                           c=,\n",
    "                           label=)\n",
    "\n",
    "# This part is new\n",
    "plt.title(\"Sepal length vs. Petal length\")\n",
    "# TODO: add the x-axis label here\n",
    "\n",
    "# TODO: add the y-axis label here\n"
   ]
  },
  {
   "cell_type": "markdown",
   "id": "75808eca-b19a-4452-9c1f-6ec2a3bf341d",
   "metadata": {
    "id": "noIHInGYEE9A"
   },
   "source": [
    "#### **Creating a legend**\n",
    "\n",
    "\n",
    "To create a legend, we need the ```legend()``` function and ```*yourplot.legend_elements()```.\n",
    "\n",
    "| Function | Input parameters | Output | Syntax |\n",
    "| --- | --- | --- | --- |\n",
    "| plt.legend() | *yourplot*.legend_elements() | a Matplotlib legend. | plt.legend(**yourplot*.legend_elements(), loc=*loc*, title=*title*) |\n",
    "\n",
    "* Calling ```.legend_elemets()``` on your plot returns the legend handles and labels. You can think of Matplotlib handles as line objects drawing the paths, and each label is a string for the paths. When passing this into ```plt.legend()```, make sure you add ```*``` before it. This is the required syntax.\n",
    "* `loc`: The location of the legend. Options include \"upper left\", \"lower right\", etc. You can find more options in the documentation.\n",
    "* `title`: The title for the legend.\n",
    "\n",
    "For more information on legends, see the documentation: https://matplotlib.org/stable/api/_as_gen/matplotlib.pyplot.legend.html\n",
    "\n",
    "<span style=\"background-color: #FFD700\">**Complete the code cell below**</span> to create a legend with the title \"Species\", placed on the lower right corner of the plot."
   ]
  },
  {
   "cell_type": "code",
   "execution_count": null,
   "id": "ccdeb1e6-ee14-4e07-9ff2-eb936156ac94",
   "metadata": {
    "colab": {
     "base_uri": "https://localhost:8080/",
     "height": 490
    },
    "executionInfo": {
     "elapsed": 1014,
     "status": "ok",
     "timestamp": 1723542329388,
     "user": {
      "displayName": "Olivia Yan",
      "userId": "09673555938985020879"
     },
     "user_tz": -480
    },
    "id": "NyXzz-XbLKZb",
    "outputId": "39739acb-7881-4c5a-c135-6f96d18fbd2f"
   },
   "outputs": [],
   "source": [
    "scatter_plot = plt.scatter(x=df['sepal length (cm)'],\n",
    "                           y=df['petal length (cm)'],\n",
    "                           c=df['species'],\n",
    "                           label=df['species'])\n",
    "plt.title(\"Sepal length vs. Petal length\")\n",
    "plt.xlabel(\"Sepal length (cm)\")\n",
    "plt.ylabel(\"Petal length (cm)\")\n",
    "\n",
    "# TODO: write your code here\n",
    "plt.legend()"
   ]
  },
  {
   "cell_type": "markdown",
   "id": "43335a54-ed6c-4864-8218-9e58ab112c26",
   "metadata": {
    "id": "vsDvrkmGecMu"
   },
   "source": [
    "#### **Subplots**\n",
    "\n",
    "One of our goals is to visually identify any associations between variables at a glance. Instead of writing the code for each pair individually, we can write the code in a for loop and organize them using **subplots**.\n",
    "\n",
    "Subplots in Matplotlib allow us to group plots together and organize them into a grid-like format with multiple rows/columns of plots. This is useful for us since we need to create many pair plots. For our dataset of 4 features, we need to create 6 plots in total (we do not need to plot a feature against itself). Using a for loop saves us from rewriting similar code for each pair, and using subplots makes it easier to visualize all the plots in one single layout.\n",
    "\n",
    "| Function | Input parameters | Output | Syntax |\n",
    "| --- | --- | --- | --- |\n",
    "| plt.subplots() | nrows, ncols, sharex, sharey, figsize | fig, axes | fig, axes = plt.subplots(nrows=*nrows*, ncols=*ncols*, ... ) |\n",
    "\n",
    "* **`nrows, ncols`**: Integers specifying the number of rows and/or columns of plots you want. If you do not specify it, the default will be 1.\n",
    "* **`sharex, sharey`**: Boolean values (True/False) specifying whether subplots will have the same axis range or not. For example, if you specify ```sharex=True```, all subplots in the group will share the same x-axis range. Otherwise, each subplot will have its own axis ranges depending on the data by default.\n",
    "* **`figsize`**: The dimensions of the plots in inches. It is sometimes useful to manually adjust figsize to ensure the plots are readable. Eg. ```figsize=(10,10)``` for a 10x10 plot.\n",
    "\n",
    "```plt.subplots()``` returns 2 outputs. The first is a **Matplotlib Figure**. This implements the group of plots at a high level.\n",
    "\n",
    "The second is a list of **Matplotlib Axes**, one for each subplot created (number of `Axes` objects = `nrows` x `ncols`). They implement the details of each subplot, such as the plot graphics, title label, legend, and other elements we previously worked with.\n",
    "\n",
    "Figures and Axes each come with their own functions. We will not teach them in detail in this module, but we list some of them used in the code below:\n",
    "\n",
    "Figure functions:\n",
    "* ```fig.tight_layout()``` - formats the group of subplots to prevent overlap\n",
    "\n",
    "Axes functions:\n",
    "* All plotting functions similarly defined for ```plt``` - i.e. ```ax.scatter()```, ```ax.bar()```, etc.\n",
    "* ```ax.set_title()``` - similar to plt.title()\n",
    "* ```ax.set_xlabel()``` - similar to plt.xlabel()\n",
    "* ```ax.set_ylabel()``` - similar to plt.ylabel()\n",
    "* ```ax.legend()``` - similar to plt.legend()\n",
    "\n",
    "**Your task**: First, read the code cell below; the in-line comments will guide you. Then, fill in the lines marked with TODO. Namely, you will need to do 2 things:\n",
    "1. Create a group of 6 subplots\n",
    "      * use a single column and 6 rows.\n",
    "      * make all subplots share x and y axis ranges.\n",
    "      * specify 10x10 for the subplot dimensions.\n",
    "2. Generate a scatter subplot for each pair of features. You shouldn't need to modify the for loop besides the part marked with TODO. Use ```xfeat``` and ```yfeat``` which we have defined for you to get the appropriate columns of the DataFrame.\n",
    "\n",
    "<span style=\"background-color: #FFD700\">**Complete the code cell below.**</span>"
   ]
  },
  {
   "cell_type": "code",
   "execution_count": null,
   "id": "2143c656-b8b4-4c98-986b-3487d6c0022e",
   "metadata": {
    "colab": {
     "base_uri": "https://localhost:8080/",
     "height": 1000
    },
    "executionInfo": {
     "elapsed": 2995,
     "status": "ok",
     "timestamp": 1723543197734,
     "user": {
      "displayName": "Olivia Yan",
      "userId": "09673555938985020879"
     },
     "user_tz": -480
    },
    "id": "_O6ZvaFBeW-A",
    "outputId": "29db6ac4-420e-461a-c8e2-0ad4e54ff84a"
   },
   "outputs": [],
   "source": [
    "# These variables do not depend on the feature pairs\n",
    "# so we can define them outside of the loop.\n",
    "\n",
    "# Define color mapping from species value\n",
    "colors = {0: 'red', 1: 'blue', 2: 'gold'}\n",
    "\n",
    "# Extract the names of the 4 features\n",
    "features = df.columns[:-1\n",
    "\n",
    "# Create a group of 6 subplots\n",
    "# TODO: fill in the code below\n",
    "fig, axes = plt.subplots(nrows=, sharex=, sharey=, figsize=)\n",
    "num_subplot = 0\n",
    "\n",
    "# Loop through the pairs\n",
    "# This skips pairs we've already seen (i.e., 1 vs 2 is the same as 2 vs 1)\n",
    "# and also skips the self-pairs\n",
    "for i in range(len(features)):\n",
    "  for j in range(i + 1, len(features)):\n",
    "    xfeat = df.columns[i]   # get name of feature to plot along x axis\n",
    "    yfeat = df.columns[j]   # get name of feature to plot along y axis\n",
    "    ax = axes[num_subplot]  # index into a new subplot in the Axes list\n",
    "    num_subplot += 1        # increment the index for the next subplot\n",
    "\n",
    "    # Plot the data\n",
    "    # TODO: fill in the code below\n",
    "    scatter_plot = ax.scatter(x=, y=,\n",
    "                              c=,\n",
    "                              label=)\n",
    "    ax.set_title(f'{xfeat} vs. {yfeat}')\n",
    "    ax.set_xlabel(f'{xfeat}')\n",
    "    ax.set_ylabel(f'{yfeat}')\n",
    "\n",
    "    # Add a legend (this is the same for all subplots)\n",
    "    ax.legend(*scatter_plot.legend_elements(), loc='upper left')\n",
    "\n",
    "# Finally, adjust the layout in the group of subplots to prevent overlap\n",
    "fig.tight_layout()"
   ]
  },
  {
   "cell_type": "markdown",
   "id": "80d01fee-b4d8-48c9-9e0f-cfe12566a9a6",
   "metadata": {
    "id": "UNYEWJ9RJyis"
   },
   "source": [
    "**Q1: Do you see any distinct separations of the 3 species? Which species form groups (\"clusters\") according to the pairplots?**\n",
    "\n",
    "<span style=\"background-color: #FFD700\">**Write your answer below**</span>\n",
    "\n",
    "---\n"
   ]
  },
  {
   "cell_type": "markdown",
   "id": "f54fac34-c0f1-4a0e-acce-d2f1e2bb28f8",
   "metadata": {
    "id": "jWbD0HjP9ttE"
   },
   "source": [
    "**Q2: Which two features are the most helpful in distinguishing between species? What is your rationale for choosing these two features?**\n",
    "\n",
    "\n",
    "<span style=\"background-color: #FFD700\">**Write your answer below**</span>\n",
    "\n",
    "---"
   ]
  },
  {
   "cell_type": "markdown",
   "id": "7efd847c-de17-4c74-8612-0b1ee6e6b8d3",
   "metadata": {
    "id": "O3dpP6dHxnRo"
   },
   "source": [
    "### Part 2: Mammal Teeth dataset\n",
    "\n",
    "As you have seen in the Iris pairplots, plotting certain features can reveal distinct groups of points. These groups of points are called **clusters** (see definition below). Points within a cluster are thought to be more closely related than points from different clusters.\n",
    "\n",
    "<span style=\"background-color: #AFEEEE\">**cluster**</span>: A group of similar data points.\n",
    "\n",
    "We can perform other types of clustering using special plots. **Hierarchical clustering** is a type of clustering that groups two subgroups together based on a closeness metric and algorithm (eg. Euclidean distance), iteratively doing so until there is one group at the highest level.\n",
    "\n",
    "A **dendrogram** is a type of plot that shows how subgroups have been combined at each level in hierarchical clustering.\n",
    "\n",
    "*source: https://dashee87.github.io/data%20science/general/Clustering-with-Scikit-with-GIFs/*\n",
    "\n",
    "In this section, we will explore a dataset of mammalian teeth to gain insight into the evolutionary relationships between species.\n",
    "\n",
    "Building a dendrogram based on a dataset of mammalian tooth size allows us to visually explore the evolutionary relationships among different mammalian species. By clustering species with similar tooth sizes together, we can infer their phylogenetic relatedness and understand their evolutionary history. This approach provides insights into common ancestry, adaptive radiation, and ecological niche differentiation among mammals based on dental morphology. Hierarchical clustering is often used with genetic datasets as well.\n"
   ]
  },
  {
   "cell_type": "markdown",
   "id": "322b8ee3-219a-49ed-a08c-989c0c5c0ba0",
   "metadata": {
    "id": "_FdFMkL7BrGX"
   },
   "source": [
    "You can find \"mammal_teeth.csv\" used in the following section here: [mammal_teeth](https://drive.google.com/file/d/1tBjZF-KiUZ8BzvNw_7uHNGuowOHdTXLE/view?usp=drive_link)"
   ]
  },
  {
   "cell_type": "code",
   "execution_count": null,
   "id": "8979de27-2940-4e7e-ae63-92fe92bb9970",
   "metadata": {
    "colab": {
     "base_uri": "https://localhost:8080/",
     "height": 329
    },
    "executionInfo": {
     "elapsed": 1144,
     "status": "error",
     "timestamp": 1723539795378,
     "user": {
      "displayName": "Olivia Yan",
      "userId": "09673555938985020879"
     },
     "user_tz": -480
    },
    "id": "wh-lWLA-xpks",
    "outputId": "2526d0fc-fe21-4f16-b24b-872e2abd0b69"
   },
   "outputs": [],
   "source": [
    "df_teeth = pd.read_csv(\"mammal_teeth.csv\")\n",
    "df_teeth.head()"
   ]
  },
  {
   "cell_type": "markdown",
   "id": "b8ab2fa9-8540-4038-a19d-20846f4c49f1",
   "metadata": {
    "id": "ybNmx420t95W"
   },
   "source": [
    "Let's take a look at which mammals are included in the dataset."
   ]
  },
  {
   "cell_type": "code",
   "execution_count": null,
   "id": "483a1d1e-a4fe-47b2-94f5-c195f9cfe292",
   "metadata": {
    "colab": {
     "base_uri": "https://localhost:8080/"
    },
    "executionInfo": {
     "elapsed": 9,
     "status": "ok",
     "timestamp": 1722835909491,
     "user": {
      "displayName": "Yifei Sun",
      "userId": "08728652971139677065"
     },
     "user_tz": 240
    },
    "id": "9Tjik5heIFJR",
    "outputId": "b8fef934-5160-4267-a713-e2a42b71ee39"
   },
   "outputs": [],
   "source": [
    "print(df_teeth['MAMMAL'])"
   ]
  },
  {
   "cell_type": "markdown",
   "id": "be67696d-c04f-4d4e-ba5d-604a896b2dea",
   "metadata": {
    "id": "EbBGJ8UgbPHr"
   },
   "source": [
    "If we expect mammals with close evolutionary relationships to have similar teeth features, we would expect all the bats (silver hair, pigmy, house, red, etc.) to be clustered together because they are all bat species (of the Chiroptera genus). One might expect sea mammals (otters, sea lions, seals) to be found in one cluster, separate from land mammals. We could make several other hypotheses based on our knowledge of similar/dissimilar aniamls (jaguar/cougar, elk/deer/moose)."
   ]
  },
  {
   "cell_type": "markdown",
   "id": "82ca058c-3c84-4779-b2db-06b75fab3dd8",
   "metadata": {
    "id": "D_5-q_b5mcEa"
   },
   "source": [
    "Try viewing the scatterplot for the Top incisors feature. Plot the Top incisors on the x-axis and the species names on the y-axis.\n",
    "\n",
    "<span style=\"background-color: #FFD700\">**Complete the code cell below**</span>"
   ]
  },
  {
   "cell_type": "code",
   "execution_count": null,
   "id": "d22b5898-f000-4ae1-a03f-c58363aa2e51",
   "metadata": {
    "colab": {
     "base_uri": "https://localhost:8080/",
     "height": 233
    },
    "executionInfo": {
     "elapsed": 418,
     "status": "error",
     "timestamp": 1723539801499,
     "user": {
      "displayName": "Olivia Yan",
      "userId": "09673555938985020879"
     },
     "user_tz": -480
    },
    "id": "BnUgAIY_a3Hn",
    "outputId": "399ff10e-cda5-4e6e-ec4a-4b24f5864a9e"
   },
   "outputs": [],
   "source": [
    "# Set figure size\n",
    "plt.figure(figsize=(5,10))\n",
    "\n",
    "# TODO: complete the code below\n",
    "plt.scatter(x=,\n",
    "            y=)\n",
    "\n",
    "# Set the ticks for the x-axis scale\n",
    "plt.xticks(ticks=range(int(df_teeth['Top incisors'].min()), int(df_teeth['Top incisors'].max()) + 1))"
   ]
  },
  {
   "cell_type": "markdown",
   "id": "662ab233-e69a-4391-a294-b612311ae86e",
   "metadata": {
    "id": "xQWmohT0uOK5"
   },
   "source": [
    "**Q3: Based on the number of top incisors alone, what are your observations? Do they align with your first instincts? Refer to at least one \"group\" of animals you identify in the graph.**\n",
    "\n",
    "<span style=\"background-color: #FFD700\">**Write your answer below**</span>\n",
    "\n",
    "---\n"
   ]
  },
  {
   "cell_type": "markdown",
   "id": "a1d1237f-91a6-46fc-9bd7-6ec4fe23e712",
   "metadata": {
    "id": "HDtXrYJRqjBY"
   },
   "source": [
    "#### **Hierarchical Clustering**\n",
    "\n",
    "<!-- <div>\n",
    "<img src=\"https://drive.google.com/uc?export=view&id=1si-HoNm11E7Tn6d7cna8GO-tKWsS4Rp0\" width=\"600\"/>\n",
    "</div> -->\n",
    "\n",
    "![hierarch.gif](hierarch.gif)\n",
    "\n",
    "Hierarchical clustering is a data analysis technique that groups data points into clusters based on similar characteristics. We can use this to identify patterns in the data and the similarities and/or dissimilarities across data points. Hierarchical clustering builds a tree-like structure of clusters, making it easier to interpret clusters and sort data. There are two general approaches for hierarchical clustering: agglomerative clustering (bottom-up) and divisive clustering (top-down).\n",
    "\n",
    "<!-- <div>\n",
    "<img src=\"https://drive.google.com/uc?export=view&id=17901qWH0uoQ8S157AEoRxtkvcIkvgUF9\" width=\"600\"/>\n",
    "</div> -->\n",
    "![clustering.png](clustering.png)\n",
    "\n",
    "We will use [agglomerative clustering](https://en.wikipedia.org/wiki/Hierarchical_clustering) as follows:\n",
    "1. Start by treating each data point as an individual cluster.\n",
    "2. Merge pairs of data points based on similarity.\n",
    "3. Continue merging the most similar pairs until you have one large cluster.\n",
    "\n",
    "In this example, we will be using [Ward's method](https://en.wikipedia.org/wiki/Ward%27s_method) of agglomerative clustering. Ward's method is a specialized agglomerative hierarchical clustering technique introduced by Joe H. Ward, Jr. Unlike other linkage methods, Ward's method doesn't directly define distances between clusters. Instead, it aims to generate clusters with minimum within-cluster variance.\n",
    "\n"
   ]
  },
  {
   "cell_type": "markdown",
   "id": "4cb2a945-155c-4eae-ae15-410b44aa7319",
   "metadata": {
    "id": "fSzzFMzBrS2B"
   },
   "source": [
    "#### **Dendrograms**\n",
    "\n",
    "**Dendrograms** are an excellent way to visualize hierarchical clustering results.\n",
    "\n",
    "To create a dendrogram, we need to do the following:\n",
    "1. Get all features from the dataset (minus the species classification column)\n",
    "2. Get the **linkage matrix** using scipy with an algorithm of our choice. We will use [Ward's method](https://en.wikipedia.org/wiki/Ward%27s_method).\n",
    "3. Create the dendrogram plot using scipy and format the plot using some Matplotlib functions.\n",
    "\n",
    "**linkage matrix**: A data structure that stores information about the merging of clusters at each step of the clustering process.\n",
    "\n",
    "First, let's import ```dendrogram``` and ```linkage``` from ```scipy```."
   ]
  },
  {
   "cell_type": "code",
   "execution_count": null,
   "id": "03d0d9a4-e706-4a39-b05a-9c7f6695ea1c",
   "metadata": {
    "id": "FXYjsA0n9MaJ"
   },
   "outputs": [],
   "source": [
    "# for hierarchical clustering\n",
    "from scipy.cluster.hierarchy import dendrogram, linkage"
   ]
  },
  {
   "cell_type": "markdown",
   "id": "36f8eadf-96aa-415f-96ab-2bd862f7d580",
   "metadata": {
    "id": "3bz3bNYH94kd"
   },
   "source": [
    "> Step 1: Extract features\n",
    "\n",
    "Step 1 is easy - we give the code to extract all feature columns below."
   ]
  },
  {
   "cell_type": "code",
   "execution_count": null,
   "id": "67d7da2f-1f22-43cb-bd43-78f6e5d48823",
   "metadata": {
    "id": "X5qohPIx-BNo"
   },
   "outputs": [],
   "source": [
    "features = df_teeth.iloc[:,1:]  # extract feature columns"
   ]
  },
  {
   "cell_type": "markdown",
   "id": "2f3fb544-f5b7-4968-a8f5-4c6e34f7ecdf",
   "metadata": {
    "id": "VA7P3SXR-CMq"
   },
   "source": [
    "> Step 2: Creating the linkage matrix\n",
    "\n",
    "To create a linkage matrix, we need to select the type of method. In general, methods used for hierarchical clustering use the distance between two points based on their features to determine clusters. The methods differ in how they assign the cluster membership.\n",
    "\n",
    "As mentioned above, we will be using Ward's method in this example through the ```'ward'``` parameter in the ```linkage()``` function. You can read about other methods here in the scipy documentation: https://docs.scipy.org/doc/scipy/reference/generated/scipy.cluster.hierarchy.linkage.html\n",
    "\n",
    "| Function | Input parameters | Output | Syntax |\n",
    "| --- | --- | --- | --- |\n",
    "| linkage() | features, method | a linkage matrix | linkage(features, method) |\n",
    "\n",
    "<span style=\"background-color: #FFD700\">**Complete the code cell below.**</span>"
   ]
  },
  {
   "cell_type": "code",
   "execution_count": null,
   "id": "b9f01449-5aa6-45a9-b06b-0dd69a5086f2",
   "metadata": {
    "id": "I-KvrC9-BYDP"
   },
   "outputs": [],
   "source": [
    "# TODO: create a linkage matrix using Ward's method\n",
    "# Ward: use sum of squared dist. to the cluster centres as the proximity metric for merging two clusters\n",
    "linkage_matrix = linkage()"
   ]
  },
  {
   "cell_type": "markdown",
   "id": "d94b8045-bacf-4ebd-b579-64a9fb7ef9f3",
   "metadata": {
    "id": "88spgLg69Pxh"
   },
   "source": [
    "> Step 3: Creating the dendrogram\n",
    "\n",
    "Scipy's ```dendrogram()``` function generates a dendrogram that we can modify using Matplotlib.\n",
    "\n",
    "| Function | Input parameters | Output | Syntax |\n",
    "| --- | --- | --- | --- |\n",
    "| dendrogram() | linkage_matrix, orientation, labels | A dictionary of data structures computed to render the dendrogram (not needed). | dendrogram(linkage_matrix, orientation=*orientation*, labels=*labels*) |\n",
    "\n",
    "* For this dataset, we flip the dendrogram using ```orientation='left'``` so the plot is more readable.\n",
    "* We have labelled the species of each data point instead of the data point ids, so we can see which species were clustered together (to_numpy() simply converts the species label to a structure that the function expects - do not worry about this part)."
   ]
  },
  {
   "cell_type": "code",
   "execution_count": null,
   "id": "c86d795c-5787-407a-af50-ca0c8b77bfc4",
   "metadata": {
    "colab": {
     "base_uri": "https://localhost:8080/",
     "height": 889
    },
    "executionInfo": {
     "elapsed": 14,
     "status": "ok",
     "timestamp": 1722835910162,
     "user": {
      "displayName": "Yifei Sun",
      "userId": "08728652971139677065"
     },
     "user_tz": 240
    },
    "id": "kO023zr5J9qp",
    "outputId": "0a5d3fdd-9e38-4ee7-de1b-aeb9d1cc35b9"
   },
   "outputs": [],
   "source": [
    "# plot dendrogram\n",
    "fig = plt.figure(figsize=(10, 10))\n",
    "dendrogram(linkage_matrix, orientation=\"left\", labels=df_teeth['MAMMAL'].to_numpy())\n",
    "\n",
    "# some formatting to make it look nice\n",
    "plt.title(\"Hierarchical clustering of mammals based on teeth\")\n",
    "plt.xlabel(\"Cluster distance\")\n"
   ]
  },
  {
   "cell_type": "markdown",
   "id": "068ee52e-d356-444f-b577-39a1f6a3ce02",
   "metadata": {
    "id": "45h6b8aJ2am1"
   },
   "source": [
    "In this view, the y-axis shows all the datapoints as their species labels. The x-axis refers to the distance between clusters (as calculated using Ward's method, in our case)."
   ]
  },
  {
   "cell_type": "markdown",
   "id": "060cd743-9885-4a68-bdc3-7bea360553ed",
   "metadata": {
    "id": "k0NFijkbze-e"
   },
   "source": [
    "**Q4: What do you notice about marine animals (are they grouped close together or far apart)? Is this in line with your intuition?**\n",
    "\n",
    "<span style=\"background-color: #FFD700\">**Write your answer below**</span>\n",
    "\n",
    "---\n",
    "\n",
    "**Q5: What about bats? Is this in line with your intuition?**\n",
    "\n",
    "<span style=\"background-color: #FFD700\">**Write your answer below**</span>\n",
    "\n",
    "---"
   ]
  },
  {
   "cell_type": "markdown",
   "id": "17462343-c3e6-4b82-b1bf-11862f3e4d71",
   "metadata": {
    "id": "55QaBzsv_03v"
   },
   "source": [
    "#### **Cluster thresholds**\n",
    "We can vary the cluster distance threshold (somewhat arbitrarily for now) and see what clusters we get.\n",
    "\n",
    "To show the clusters in different colours, we will specify the ```color_threshold``` parameter in the  function ```dendrogram()```.\n",
    "\n",
    "We also add a vertical line at the cluster threshold in the dendrogram with ```plt.axvline()```.\n",
    "\n",
    "| Function | Input parameters | Output | Syntax |\n",
    "| --- | --- | --- | --- |\n",
    "| plt.axvline() | x, c, lw, linestyle | a Matplotlib line. | plt.axvline(x=*x*, c=*c*, ... )|\n",
    "\n",
    "* x (int): The x-axis value where the vertical line should be drawn.\n",
    "* c (string): The color for the line. eg. 'red', 'blue', etc.\n",
    "* lw (int): The linewidth for the line.\n",
    "* linestyle (string): The line style. eg. '-', dashed', etc.\n",
    "\n",
    "*Note: Since we have a horizontal dendrogram, we will draw a vertical line. Normally, we have vertical dendrograms, so we draw horizontal lines.\n",
    "\n",
    "Let's see what happens when we set the threshold to ```4```."
   ]
  },
  {
   "cell_type": "code",
   "execution_count": null,
   "id": "c6725a3a-14f3-4419-a60a-75f0cade8f55",
   "metadata": {
    "colab": {
     "base_uri": "https://localhost:8080/",
     "height": 889
    },
    "executionInfo": {
     "elapsed": 421,
     "status": "ok",
     "timestamp": 1722835910571,
     "user": {
      "displayName": "Yifei Sun",
      "userId": "08728652971139677065"
     },
     "user_tz": 240
    },
    "id": "Aa-aR_kx_yWb",
    "outputId": "928da0e5-e646-4b35-eadb-8d78f2034560"
   },
   "outputs": [],
   "source": [
    "# NOTE: students do not need to recompute the linkage matrix\n",
    "# since the algorithm and dataset haven't changed.\n",
    "# We are only modifying the dendrogram and the plot.\n",
    "\n",
    "plt.figure(figsize=(10,10))\n",
    "# Make the dendrogram and give the colour above the threshold\n",
    "dendrogram(linkage_matrix,\n",
    "           color_threshold=4,\n",
    "           above_threshold_color='grey',\n",
    "           orientation=\"left\",\n",
    "           labels=df_teeth['MAMMAL'].to_numpy())\n",
    "\n",
    "# Add vertical line (normally a horizontal line for dendrograms in vertical orientation)\n",
    "# everything to the right of the vertical line is a cluster; separate with colors\n",
    "plt.axvline(x=4, c='grey', lw=1, linestyle='dashed')    # arbitrary threshold 4\n",
    "plt.title(\"Hierarchical clustering of mammals based on teeth\")\n",
    "plt.xlabel(\"Cluster size\")"
   ]
  },
  {
   "cell_type": "markdown",
   "id": "17475d81-9931-4421-b655-dce31abf27c5",
   "metadata": {
    "id": "hBvpQheLIx5E"
   },
   "source": [
    "**Q6.** **What are the animal groups according to this threshold?**\n",
    "\n",
    "<span style=\"background-color: #FFD700\">**Write your answer below**</span>\n",
    "\n",
    "---"
   ]
  },
  {
   "cell_type": "markdown",
   "id": "1e36d088-fe5d-44fd-93f6-8c90c01f9c7f",
   "metadata": {
    "id": "3JPa40LnPL8Y"
   },
   "source": [
    "## **Graded Exercise (5 marks)**"
   ]
  },
  {
   "cell_type": "markdown",
   "id": "dff0d1ae-921f-4f4b-a978-dd0b65d61f1b",
   "metadata": {
    "id": "69lckWaeAq9i"
   },
   "source": [
    "**GQ1. (1 mark) In the previous example, the fourth cluster (grey seal to elephant seal) was very close to the cluster size threshold. Create another dendrogram for the mammal dataset using the same parameters as before, except with cluster size 3.5**\n",
    "\n",
    "<span style=\"background-color: #FFD700\">**Write your code below**</span>\n",
    "\n",
    "---"
   ]
  },
  {
   "cell_type": "code",
   "execution_count": null,
   "id": "1054a390-1559-41f3-bcb6-fbf8e4f16b3c",
   "metadata": {
    "colab": {
     "base_uri": "https://localhost:8080/",
     "height": 889
    },
    "executionInfo": {
     "elapsed": 510,
     "status": "ok",
     "timestamp": 1722835911076,
     "user": {
      "displayName": "Yifei Sun",
      "userId": "08728652971139677065"
     },
     "user_tz": 240
    },
    "id": "w6tDkRmUqkRI",
    "outputId": "53b38cec-7331-43ba-b743-ad7c5dd97acd"
   },
   "outputs": [],
   "source": [
    "# NOTE: Students do not need to recompute the linkage matrix\n",
    "# since the algorithm and dataset haven't changed.\n",
    "# We are only modifying the dendrogram and the plot.\n",
    "# features = df_teeth.iloc[:,1:]  # extract columns except mammal classification\n",
    "# create linkage matrix using Ward\n",
    "# Ward: use sum of squared dist. to the cluster centres as the proximity metric for merging two clusters\n",
    "# linkage_matrix = linkage(features, 'ward')\n",
    "\n",
    "plt.figure(figsize=(10,10))\n",
    "# TODO: modify the dendrogram to set a color threshold\n",
    "dendrogram(linkage_matrix,\n",
    "           above_threshold_color = 'grey',\n",
    "           orientation = \"left\",\n",
    "           labels = df_teeth['MAMMAL'].to_numpy())\n",
    "\n",
    "# TODO: Complete the code below to add a dashed vertical line at the color threshold\n",
    "plt.axvline()    # arbitrary threshold 4\n",
    "plt.title(\"Hierarchical clustering of mammals based on teeth\")\n",
    "plt.xlabel(\"Cluster distance\")"
   ]
  },
  {
   "cell_type": "markdown",
   "id": "bc88c29c-5354-48a3-be1d-d777b20309d2",
   "metadata": {
    "id": "NRxWScmg3v06"
   },
   "source": [
    "**GQ2. (1 mark) What are the animal groups according to this threshold?**\n",
    "\n",
    "<span style=\"background-color: #FFD700\">**Write your answer below**</span>\n",
    "\n",
    "---\n"
   ]
  },
  {
   "cell_type": "markdown",
   "id": "ec170694-16b5-43c1-adc7-2ac01aa5c225",
   "metadata": {
    "id": "hdbHtvG0BONV"
   },
   "source": [
    "**GQ3.(2 marks) This dendrogram suggests that river otters are more closely related to matens than sea otters. Is this true? Look up the phylogeny of these animals and the family/families they belong to to help you answer this question.**\n",
    "\n",
    "* Note: If you were not able to create the dendrogram properly to see this relationship, you can still answer this question and receive full marks on GQ3.\n",
    "\n",
    "<span style=\"background-color: #FFD700\">**Write your answer below**</span>\n",
    "\n",
    "---"
   ]
  },
  {
   "cell_type": "markdown",
   "id": "63b0b8c5-f824-4cce-8490-d20eaff1f5a2",
   "metadata": {
    "id": "Bk9miw7mBHsl"
   },
   "source": [
    "**GQ4. (1 mark) Although the groupings resulting from this threshold are decently logical (animals are generally clustered with other animals similar in physical features), not every grouping seems perfect. Using another distance calculation method (other than Ward's method) could help us achieve better groupings. List one example of another method, briefly describe how it works, and in which scenarios this method might achieve better clustering.**\n",
    "\n",
    "* You can read about different distance methods in scipy's documentation for obtaining the linkage matrix: https://docs.scipy.org/doc/scipy/reference/generated/scipy.cluster.hierarchy.linkage.html. The explanations here are minimal, so you are encouraged to do further research through googling (looking at diagrams can help you see the differences between each method). You should respond in your own words.\n",
    "\n",
    "\n",
    "<span style=\"background-color: #FFD700\">**Write your answer below**</span>\n",
    "\n",
    "---"
   ]
  },
  {
   "cell_type": "markdown",
   "id": "0ea6138e-f7bc-4f2b-968b-ea0b1879f6f3",
   "metadata": {
    "id": "AwzrQoU4U9rR"
   },
   "source": [
    "## Conclusion\n",
    "\n",
    "In this module, you learned how to use plotting libraries to visualize relationships of different features within datasets, and adjust the plotting by changing parameters to the plotting functions. Then, you learned what hierarchical clustering is, and how to perform and visualize hierarchical clustering on the mammal teeth dataset."
   ]
  }
 ],
 "metadata": {
  "kernelspec": {
   "display_name": "Python 3 (ipykernel)",
   "language": "python",
   "name": "python3"
  },
  "language_info": {
   "codemirror_mode": {
    "name": "ipython",
    "version": 3
   },
   "file_extension": ".py",
   "mimetype": "text/x-python",
   "name": "python",
   "nbconvert_exporter": "python",
   "pygments_lexer": "ipython3",
   "version": "3.11.6"
  }
 },
 "nbformat": 4,
 "nbformat_minor": 5
}
